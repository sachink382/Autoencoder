{
  "nbformat": 4,
  "nbformat_minor": 0,
  "metadata": {
    "colab": {
      "name": "Task_2.ipynb",
      "provenance": [],
      "collapsed_sections": []
    },
    "kernelspec": {
      "name": "python3",
      "display_name": "Python 3"
    },
    "language_info": {
      "name": "python"
    }
  },
  "cells": [
    {
      "cell_type": "code",
      "metadata": {
        "id": "HtNHsl7MOEq4"
      },
      "source": [
        "import matplotlib.pyplot as plt\n",
        "import seaborn as sns\n",
        "from sklearn.metrics import classification_report,confusion_matrix\n",
        "import tensorflow as tf\n",
        "import cv2\n",
        "import os\n",
        "import numpy as np\n",
        "import tensorflow as tf\n",
        "import tensorflow_hub as hub\n",
        "import tensorflow_datasets as tfds\n",
        "from tensorflow.keras.datasets import imdb\n",
        "from tensorflow.keras import optimizers\n",
        "from tensorflow.keras.models import Model\n",
        "from tensorflow.keras.models import Sequential\n",
        "from tensorflow.keras.layers import Input\n",
        "from tensorflow.keras.layers import Dense\n",
        "from tensorflow.keras.layers import Dropout\n",
        "from tensorflow.keras.layers import Conv1D\n",
        "from tensorflow.keras.layers import Conv2D\n",
        "from tensorflow.keras.layers import Conv3D\n",
        "from tensorflow.keras.layers import Conv1DTranspose\n",
        "from tensorflow.keras.layers import BatchNormalization\n",
        "from tensorflow.keras.layers import MaxPool1D\n",
        "from tensorflow.keras.layers import AveragePooling1D\n",
        "from tensorflow.keras.layers import Embedding\n",
        "from tensorflow.keras.layers import MaxPool2D\n",
        "from tensorflow.keras.layers import ReLU\n",
        "from tensorflow.keras.layers import Flatten\n",
        "from tensorflow.keras import backend as k\n",
        "from sklearn.preprocessing import StandardScaler\n",
        "from sklearn.model_selection import train_test_split\n",
        "from collections import Counter\n",
        "import matplotlib.pyplot as plt\n",
        "import seaborn as sns"
      ],
      "execution_count": 1,
      "outputs": []
    },
    {
      "cell_type": "code",
      "metadata": {
        "id": "sLzukSoCOG4R"
      },
      "source": [
        "max_sequence_length = 100\n",
        "num_distinct_words = 10000\n",
        "\n",
        "#Download Dataset\n",
        "(x_train, y_train), (x_test, y_test) = imdb.load_data(num_words=num_distinct_words)"
      ],
      "execution_count": 2,
      "outputs": []
    },
    {
      "cell_type": "code",
      "metadata": {
        "colab": {
          "base_uri": "https://localhost:8080/"
        },
        "id": "4DpSVylSEiB6",
        "outputId": "da911ea4-a3f2-4738-abbe-f3f7a7f5e6b1"
      },
      "source": [
        "print(x_train.shape)\n",
        "print(y_train.shape)\n",
        "\n",
        "print(x_test.shape)\n",
        "print(y_test.shape)"
      ],
      "execution_count": 3,
      "outputs": [
        {
          "output_type": "stream",
          "name": "stdout",
          "text": [
            "(25000,)\n",
            "(25000,)\n",
            "(25000,)\n",
            "(25000,)\n"
          ]
        }
      ]
    },
    {
      "cell_type": "code",
      "metadata": {
        "id": "1FaMOHzh0dYx"
      },
      "source": [
        "x_test1 = x_test[0:5000]\n",
        "y_test1 = y_test[0:5000]"
      ],
      "execution_count": 4,
      "outputs": []
    },
    {
      "cell_type": "code",
      "metadata": {
        "colab": {
          "base_uri": "https://localhost:8080/"
        },
        "id": "tXHbvwJ28FV3",
        "outputId": "5e86ce89-3ac9-472b-e4fc-061314b28e27"
      },
      "source": [
        "print(x_train.shape)\n",
        "print(y_train.shape)\n",
        "\n",
        "print(x_test1.shape)\n",
        "print(y_test1.shape)"
      ],
      "execution_count": 5,
      "outputs": [
        {
          "output_type": "stream",
          "name": "stdout",
          "text": [
            "(25000,)\n",
            "(25000,)\n",
            "(5000,)\n",
            "(5000,)\n"
          ]
        }
      ]
    },
    {
      "cell_type": "code",
      "metadata": {
        "id": "4bRmgtstYeOA"
      },
      "source": [
        "# Pad all sequences\n",
        "# Pad x_train and x_test1\n",
        "\n",
        "from tensorflow.keras.preprocessing.sequence import pad_sequences\n",
        "padded_x_train = pad_sequences(x_train, maxlen=max_sequence_length, value = 0.0)\n",
        "padded_x_test1 = pad_sequences(x_test1, maxlen=max_sequence_length, value = 0.0)"
      ],
      "execution_count": 8,
      "outputs": []
    },
    {
      "cell_type": "code",
      "metadata": {
        "colab": {
          "base_uri": "https://localhost:8080/"
        },
        "id": "_gkWERdU85pv",
        "outputId": "f38d9901-af49-4c11-d816-bb7c2b6fc440"
      },
      "source": [
        "print(padded_x_train.shape)\n",
        "print(padded_x_test1.shape)"
      ],
      "execution_count": 9,
      "outputs": [
        {
          "output_type": "stream",
          "name": "stdout",
          "text": [
            "(25000, 100)\n",
            "(5000, 100)\n"
          ]
        }
      ]
    },
    {
      "cell_type": "code",
      "metadata": {
        "id": "xWjofaX93l37"
      },
      "source": [
        "# Sparse CNN Autoencoder\n",
        "inputs = Input(shape =(max_sequence_length), name = 'encoder_input')\n",
        "\n",
        "def encoder(inp):\n",
        "  em = Embedding(10000,50)(inp)\n",
        "  conv1 = Conv1D(filters= 32, kernel_size =4, activation ='relu',padding='same', name ='encoder_conv1')(em)\n",
        "  pool1 = MaxPool1D(pool_size =4,strides =1,name ='encoder_pool1')(conv1)\n",
        "  # The last layer in encoding\n",
        "  drop = tf.keras.layers.Dropout(0.3)(pool1)\n",
        "  encoding = Dense(units = 32,activation ='linear', activity_regularizer =tf.keras.regularizers.L1(l1=0.01) ,name ='encoder_dense1')(drop)\n",
        "\n",
        "  return encoding"
      ],
      "execution_count": 65,
      "outputs": []
    },
    {
      "cell_type": "code",
      "metadata": {
        "id": "yBiyYMhU3lwv"
      },
      "source": [
        "def decoder(encoding):\n",
        "  convT1 = Conv1DTranspose(32,kernel_size = 4,activation ='relu')(encoding)\n",
        "  d = BatchNormalization()(convT1)\n",
        "  flat = Flatten()(d)\n",
        "  decoding = Dense(1, activation ='sigmoid')(flat)\n",
        "  return decoding"
      ],
      "execution_count": 66,
      "outputs": []
    },
    {
      "cell_type": "code",
      "metadata": {
        "colab": {
          "base_uri": "https://localhost:8080/"
        },
        "id": "WwZY65LY9gFL",
        "outputId": "ef1a3d2b-ae94-4865-ea33-4b693fe3bf5b"
      },
      "source": [
        "autoencoder = Model(inputs =inputs,outputs = decoder(encoder( inputs )))\n",
        "autoencoder.summary()"
      ],
      "execution_count": 67,
      "outputs": [
        {
          "output_type": "stream",
          "name": "stdout",
          "text": [
            "Model: \"model_10\"\n",
            "_________________________________________________________________\n",
            "Layer (type)                 Output Shape              Param #   \n",
            "=================================================================\n",
            "encoder_input (InputLayer)   [(None, 100)]             0         \n",
            "_________________________________________________________________\n",
            "embedding_17 (Embedding)     (None, 100, 50)           500000    \n",
            "_________________________________________________________________\n",
            "encoder_conv1 (Conv1D)       (None, 100, 32)           6432      \n",
            "_________________________________________________________________\n",
            "encoder_pool1 (MaxPooling1D) (None, 97, 32)            0         \n",
            "_________________________________________________________________\n",
            "dropout (Dropout)            (None, 97, 32)            0         \n",
            "_________________________________________________________________\n",
            "encoder_dense1 (Dense)       (None, 97, 32)            1056      \n",
            "_________________________________________________________________\n",
            "conv1d_transpose_15 (Conv1DT (None, 100, 32)           4128      \n",
            "_________________________________________________________________\n",
            "batch_normalization_15 (Batc (None, 100, 32)           128       \n",
            "_________________________________________________________________\n",
            "flatten_5 (Flatten)          (None, 3200)              0         \n",
            "_________________________________________________________________\n",
            "dense_14 (Dense)             (None, 1)                 3201      \n",
            "=================================================================\n",
            "Total params: 514,945\n",
            "Trainable params: 514,881\n",
            "Non-trainable params: 64\n",
            "_________________________________________________________________\n"
          ]
        }
      ]
    },
    {
      "cell_type": "code",
      "metadata": {
        "colab": {
          "base_uri": "https://localhost:8080/"
        },
        "id": "9I_sixBrrPL4",
        "outputId": "0c262d19-239f-4d32-8fb2-8495be77da21"
      },
      "source": [
        "optimizer = tf.keras.optimizers.Adam(0.00002)\n",
        "autoencoder.compile(loss = 'binary_crossentropy',optimizer = optimizer, metrics = ['accuracy'])\n",
        "history = autoencoder.fit(x=padded_x_train,y= y_train,epochs=50,batch_size =32,\n",
        "                          validation_data =(padded_x_test1 ,y_test1),verbose=1).history"
      ],
      "execution_count": 68,
      "outputs": [
        {
          "output_type": "stream",
          "name": "stdout",
          "text": [
            "Epoch 1/50\n",
            "782/782 [==============================] - 26s 32ms/step - loss: 1.5064 - accuracy: 0.5048 - val_loss: 1.1057 - val_accuracy: 0.5012\n",
            "Epoch 2/50\n",
            "782/782 [==============================] - 24s 31ms/step - loss: 1.1363 - accuracy: 0.5281 - val_loss: 0.9616 - val_accuracy: 0.5156\n",
            "Epoch 3/50\n",
            "782/782 [==============================] - 25s 32ms/step - loss: 0.9401 - accuracy: 0.5571 - val_loss: 0.8374 - val_accuracy: 0.5362\n",
            "Epoch 4/50\n",
            "782/782 [==============================] - 25s 32ms/step - loss: 0.8023 - accuracy: 0.5815 - val_loss: 0.7505 - val_accuracy: 0.5756\n",
            "Epoch 5/50\n",
            "782/782 [==============================] - 25s 32ms/step - loss: 0.7289 - accuracy: 0.6175 - val_loss: 0.7084 - val_accuracy: 0.6224\n",
            "Epoch 6/50\n",
            "782/782 [==============================] - 25s 32ms/step - loss: 0.6725 - accuracy: 0.6843 - val_loss: 0.6286 - val_accuracy: 0.6984\n",
            "Epoch 7/50\n",
            "782/782 [==============================] - 25s 32ms/step - loss: 0.5552 - accuracy: 0.7592 - val_loss: 0.5302 - val_accuracy: 0.7576\n",
            "Epoch 8/50\n",
            "782/782 [==============================] - 25s 32ms/step - loss: 0.4693 - accuracy: 0.8036 - val_loss: 0.4966 - val_accuracy: 0.7806\n",
            "Epoch 9/50\n",
            "782/782 [==============================] - 25s 31ms/step - loss: 0.4168 - accuracy: 0.8364 - val_loss: 0.4826 - val_accuracy: 0.7918\n",
            "Epoch 10/50\n",
            "782/782 [==============================] - 25s 32ms/step - loss: 0.3740 - accuracy: 0.8570 - val_loss: 0.4776 - val_accuracy: 0.7942\n",
            "Epoch 11/50\n",
            "782/782 [==============================] - 25s 32ms/step - loss: 0.3352 - accuracy: 0.8778 - val_loss: 0.4785 - val_accuracy: 0.7960\n",
            "Epoch 12/50\n",
            "782/782 [==============================] - 25s 32ms/step - loss: 0.3008 - accuracy: 0.8920 - val_loss: 0.4868 - val_accuracy: 0.7960\n",
            "Epoch 13/50\n",
            "782/782 [==============================] - 25s 32ms/step - loss: 0.2674 - accuracy: 0.9075 - val_loss: 0.5030 - val_accuracy: 0.7960\n",
            "Epoch 14/50\n",
            "782/782 [==============================] - 25s 32ms/step - loss: 0.2388 - accuracy: 0.9205 - val_loss: 0.5173 - val_accuracy: 0.7972\n",
            "Epoch 15/50\n",
            "782/782 [==============================] - 25s 32ms/step - loss: 0.2099 - accuracy: 0.9330 - val_loss: 0.5423 - val_accuracy: 0.7960\n",
            "Epoch 16/50\n",
            "782/782 [==============================] - 25s 32ms/step - loss: 0.1880 - accuracy: 0.9436 - val_loss: 0.5655 - val_accuracy: 0.7922\n",
            "Epoch 17/50\n",
            "782/782 [==============================] - 25s 32ms/step - loss: 0.1663 - accuracy: 0.9500 - val_loss: 0.6023 - val_accuracy: 0.7936\n",
            "Epoch 18/50\n",
            "782/782 [==============================] - 25s 32ms/step - loss: 0.1458 - accuracy: 0.9589 - val_loss: 0.6393 - val_accuracy: 0.7906\n",
            "Epoch 19/50\n",
            "782/782 [==============================] - 25s 32ms/step - loss: 0.1302 - accuracy: 0.9647 - val_loss: 0.6730 - val_accuracy: 0.7882\n",
            "Epoch 20/50\n",
            "782/782 [==============================] - 25s 32ms/step - loss: 0.1205 - accuracy: 0.9675 - val_loss: 0.7037 - val_accuracy: 0.7884\n",
            "Epoch 21/50\n",
            "782/782 [==============================] - 25s 32ms/step - loss: 0.0991 - accuracy: 0.9760 - val_loss: 0.7408 - val_accuracy: 0.7872\n",
            "Epoch 22/50\n",
            "782/782 [==============================] - 25s 32ms/step - loss: 0.0909 - accuracy: 0.9789 - val_loss: 0.7741 - val_accuracy: 0.7840\n",
            "Epoch 23/50\n",
            "782/782 [==============================] - 25s 32ms/step - loss: 0.0844 - accuracy: 0.9808 - val_loss: 0.8228 - val_accuracy: 0.7804\n",
            "Epoch 24/50\n",
            "782/782 [==============================] - 25s 32ms/step - loss: 0.0728 - accuracy: 0.9850 - val_loss: 0.8637 - val_accuracy: 0.7800\n",
            "Epoch 25/50\n",
            "782/782 [==============================] - 24s 31ms/step - loss: 0.0689 - accuracy: 0.9856 - val_loss: 0.8851 - val_accuracy: 0.7826\n",
            "Epoch 26/50\n",
            "782/782 [==============================] - 26s 33ms/step - loss: 0.0626 - accuracy: 0.9880 - val_loss: 0.9214 - val_accuracy: 0.7758\n",
            "Epoch 27/50\n",
            "782/782 [==============================] - 26s 33ms/step - loss: 0.0602 - accuracy: 0.9874 - val_loss: 0.9440 - val_accuracy: 0.7822\n",
            "Epoch 28/50\n",
            "782/782 [==============================] - 25s 33ms/step - loss: 0.0567 - accuracy: 0.9887 - val_loss: 0.9975 - val_accuracy: 0.7742\n",
            "Epoch 29/50\n",
            "782/782 [==============================] - 25s 32ms/step - loss: 0.0545 - accuracy: 0.9894 - val_loss: 0.9997 - val_accuracy: 0.7790\n",
            "Epoch 30/50\n",
            "782/782 [==============================] - 25s 32ms/step - loss: 0.0502 - accuracy: 0.9905 - val_loss: 1.0185 - val_accuracy: 0.7762\n",
            "Epoch 31/50\n",
            "782/782 [==============================] - 25s 32ms/step - loss: 0.0473 - accuracy: 0.9926 - val_loss: 1.0401 - val_accuracy: 0.7772\n",
            "Epoch 32/50\n",
            "782/782 [==============================] - 26s 33ms/step - loss: 0.0458 - accuracy: 0.9922 - val_loss: 1.0566 - val_accuracy: 0.7782\n",
            "Epoch 33/50\n",
            "782/782 [==============================] - 26s 33ms/step - loss: 0.0423 - accuracy: 0.9935 - val_loss: 1.1027 - val_accuracy: 0.7772\n",
            "Epoch 34/50\n",
            "782/782 [==============================] - 26s 33ms/step - loss: 0.0407 - accuracy: 0.9930 - val_loss: 1.1155 - val_accuracy: 0.7756\n",
            "Epoch 35/50\n",
            "782/782 [==============================] - 26s 33ms/step - loss: 0.0418 - accuracy: 0.9929 - val_loss: 1.1232 - val_accuracy: 0.7780\n",
            "Epoch 36/50\n",
            "782/782 [==============================] - 23s 30ms/step - loss: 0.0396 - accuracy: 0.9932 - val_loss: 1.1177 - val_accuracy: 0.7754\n",
            "Epoch 37/50\n",
            "782/782 [==============================] - 23s 29ms/step - loss: 0.0353 - accuracy: 0.9952 - val_loss: 1.1539 - val_accuracy: 0.7764\n",
            "Epoch 38/50\n",
            "782/782 [==============================] - 23s 29ms/step - loss: 0.0359 - accuracy: 0.9942 - val_loss: 1.1914 - val_accuracy: 0.7714\n",
            "Epoch 39/50\n",
            "782/782 [==============================] - 23s 29ms/step - loss: 0.0347 - accuracy: 0.9950 - val_loss: 1.1755 - val_accuracy: 0.7730\n",
            "Epoch 40/50\n",
            "782/782 [==============================] - 23s 30ms/step - loss: 0.0325 - accuracy: 0.9956 - val_loss: 1.1909 - val_accuracy: 0.7702\n",
            "Epoch 41/50\n",
            "782/782 [==============================] - 23s 30ms/step - loss: 0.0322 - accuracy: 0.9952 - val_loss: 1.1964 - val_accuracy: 0.7684\n",
            "Epoch 42/50\n",
            "782/782 [==============================] - 23s 30ms/step - loss: 0.0306 - accuracy: 0.9958 - val_loss: 1.2214 - val_accuracy: 0.7690\n",
            "Epoch 43/50\n",
            "782/782 [==============================] - 25s 32ms/step - loss: 0.0303 - accuracy: 0.9957 - val_loss: 1.2374 - val_accuracy: 0.7708\n",
            "Epoch 44/50\n",
            "782/782 [==============================] - 25s 32ms/step - loss: 0.0308 - accuracy: 0.9952 - val_loss: 1.2406 - val_accuracy: 0.7714\n",
            "Epoch 45/50\n",
            "782/782 [==============================] - 24s 31ms/step - loss: 0.0293 - accuracy: 0.9956 - val_loss: 1.2508 - val_accuracy: 0.7736\n",
            "Epoch 46/50\n",
            "782/782 [==============================] - 23s 29ms/step - loss: 0.0278 - accuracy: 0.9965 - val_loss: 1.2665 - val_accuracy: 0.7686\n",
            "Epoch 47/50\n",
            "782/782 [==============================] - 24s 30ms/step - loss: 0.0277 - accuracy: 0.9963 - val_loss: 1.3153 - val_accuracy: 0.7642\n",
            "Epoch 48/50\n",
            "782/782 [==============================] - 23s 30ms/step - loss: 0.0276 - accuracy: 0.9959 - val_loss: 1.2981 - val_accuracy: 0.7688\n",
            "Epoch 49/50\n",
            "782/782 [==============================] - 23s 30ms/step - loss: 0.0267 - accuracy: 0.9964 - val_loss: 1.3174 - val_accuracy: 0.7706\n",
            "Epoch 50/50\n",
            "782/782 [==============================] - 23s 30ms/step - loss: 0.0266 - accuracy: 0.9964 - val_loss: 1.3304 - val_accuracy: 0.7686\n"
          ]
        }
      ]
    },
    {
      "cell_type": "code",
      "metadata": {
        "colab": {
          "base_uri": "https://localhost:8080/"
        },
        "id": "ijNVFA0V7ZJZ",
        "outputId": "259f31e9-affd-4b6d-9ba3-0a14222a6dda"
      },
      "source": [
        "y=autoencoder.predict(padded_x_test1)\n",
        "y.shape"
      ],
      "execution_count": 39,
      "outputs": [
        {
          "output_type": "execute_result",
          "data": {
            "text/plain": [
              "(5000, 100)"
            ]
          },
          "metadata": {},
          "execution_count": 39
        }
      ]
    },
    {
      "cell_type": "code",
      "metadata": {
        "colab": {
          "base_uri": "https://localhost:8080/",
          "height": 853
        },
        "id": "IoPIfzD3s3ii",
        "outputId": "7461b8bf-7921-4143-93a1-a09bf86f40b7"
      },
      "source": [
        "acc = history['accuracy']\n",
        "val_acc = history['val_accuracy']\n",
        "#auc = history['auc']\n",
        "#val_auc = history['val_auc']\n",
        "loss = history['loss']\n",
        "val_loss = history['val_loss']\n",
        "\n",
        "epochs_range = range(50)\n",
        "\n",
        "plt.figure(figsize=(15,15))\n",
        "plt.subplot(2, 2, 1)\n",
        "plt.plot(epochs_range, acc, label='Training Accuracy')\n",
        "plt.plot(epochs_range, val_acc, label='Validation Accuracy')\n",
        "plt.legend(loc='lower right')\n",
        "plt.title('Training and Validation Accuracy')\n",
        "\n",
        "plt.figure(figsize=(15,15))\n",
        "plt.subplot(2, 2, 2)\n",
        "plt.plot(epochs_range, loss, label='Training Loss')\n",
        "plt.plot(epochs_range, val_loss, label='Validation Loss')\n",
        "plt.legend(loc='upper right')\n",
        "plt.title('Training and Validation Loss')\n",
        "plt.show()"
      ],
      "execution_count": 69,
      "outputs": [
        {
          "output_type": "display_data",
          "data": {
            "image/png": "[encoded data removed]",
            "text/plain": [
              "<Figure size 1080x1080 with 1 Axes>"
            ]
          },
          "metadata": {
            "needs_background": "light"
          }
        },
        {
          "output_type": "display_data",
          "data": {
            "image/png": "[encoded data removed]",
            "text/plain": [
              "<Figure size 1080x1080 with 1 Axes>"
            ]
          },
          "metadata": {
            "needs_background": "light"
          }
        }
      ]
    },
    {
      "cell_type": "code",
      "metadata": {
        "id": "ED3Q_Xj7PUlK"
      },
      "source": [
        ""
      ],
      "execution_count": null,
      "outputs": []
    },
    {
      "cell_type": "code",
      "metadata": {
        "id": "AiVhre1rFvnc"
      },
      "source": [
        ""
      ],
      "execution_count": null,
      "outputs": []
    }
  ]
}